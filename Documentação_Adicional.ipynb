{
  "nbformat": 4,
  "nbformat_minor": 0,
  "metadata": {
    "colab": {
      "provenance": [],
      "authorship_tag": "ABX9TyNAxWORbkMEx8VRs3GW7tFl",
      "include_colab_link": true
    },
    "kernelspec": {
      "name": "python3",
      "display_name": "Python 3"
    },
    "language_info": {
      "name": "python"
    }
  },
  "cells": [
    {
      "cell_type": "markdown",
      "metadata": {
        "id": "view-in-github",
        "colab_type": "text"
      },
      "source": [
        "<a href=\"https://colab.research.google.com/github/aikoian/Thrive-Project/blob/main/Documenta%C3%A7%C3%A3o_Adicional.ipynb\" target=\"_parent\"><img src=\"https://colab.research.google.com/assets/colab-badge.svg\" alt=\"Open In Colab\"/></a>"
      ]
    },
    {
      "cell_type": "markdown",
      "source": [
        "Documentação Adicional - Projeto Thrive\n",
        "\n",
        "Introdução\n",
        "\n",
        "Descrição do Projeto:\n",
        "\n",
        "Thrive é um sistema interativo que utiliza inteligência artificial para auxiliar os usuários a melhorar sua saúde e bem-estar, com foco em sono e nutrição. O sistema oferece avaliações, informações e recomendações personalizadas com base em dados fornecidos pelo usuário e na capacidade da API Gemini do Google.\n",
        "\n",
        "\n",
        "Público-alvo:\n",
        "\n",
        " Thrive é destinado a qualquer pessoa interessada em melhorar seus hábitos de sono, alimentação e qualidade de vida em geral. O sistema é projetado para ser fácil de usar e acessível, mesmo para aqueles com pouco conhecimento técnico.\n",
        "\n",
        "Tecnologias:\n",
        "\n",
        " - Python 3\n",
        " - Google Generative AI API (Gemini)\n",
        " - Google Colab (opcional)\n",
        "\n",
        "Arquitetura do Projeto\n",
        "\n",
        "Diagrama de Componentes:\n"
      ],
      "metadata": {
        "id": "oH-TUVS7-Bb-"
      }
    },
    {
      "cell_type": "code",
      "source": [
        "[Usuário] ----> [Interface de Usuário (Menu)] ----> [Processamento (Funções Python)] ----> [API Gemini] ----> [Resultados]"
      ],
      "metadata": {
        "id": "pdMY6SKrAJLY"
      },
      "execution_count": null,
      "outputs": []
    },
    {
      "cell_type": "markdown",
      "source": [
        "Descrição das Funções:\n",
        "\n",
        "leiaint(msg): Lê um valor inteiro do usuário com validação.\n",
        "\n",
        "leiastr(msg): Lê um valor de texto do usuário com validação.\n",
        "\n",
        "leiafloat(x): Lê um valor float do usuário com validação.\n",
        "\n",
        "color(msg, color=0): --> (Opcional) Exibe uma mensagem com cor no terminal.\n",
        "\n",
        "Fluxo de Execução:\n",
        "\n",
        "- O usuário é apresentado a um menu de opções.\n",
        "- O usuário seleciona uma opção.\n",
        "- A função correspondente à opção escolhida é executada.\n",
        "- A função coleta as informações necessárias do usuário.\n",
        "- A função constrói um prompt para a API Gemini com base nas informações do usuário.\n",
        "- A API Gemini processa o prompt e gera uma resposta.\n",
        "- A função exibe a resposta da API Gemini para o usuário.\n",
        "\n",
        "Dependências\n",
        "\n",
        "Bibliotecas:\n",
        "\n",
        "- google-generativeai: Para acessar a API Gemini.\n",
        "- google-colab (opcional): Para executar o projeto no Google Colab.\n",
        "\n",
        "Requisitos de Sistema:\n",
        "\n",
        "- Python 3.x\n",
        "- Chave de API para a API Gemini do Google.\n",
        "- Instalação\n",
        "\n",
        "Localmente:\n",
        "\n",
        "- Instale as dependências: pip install google-generativeai\n",
        "- Clone o repositório.\n",
        "- Configure sua chave de API no script Python.\n",
        "- Execute o script: python Thrive_Project.py\n",
        "- Google Colab (opcional):\n",
        "- Crie um novo notebook no Google Colab.\n",
        "- Instale a biblioteca google-generativeai: !pip install google-generativeai\n",
        "- Carregue o arquivo Thrive_Project.py para o Colab.\n",
        "- Configure sua chave de API usando a função userdata.get('secret_key').\n",
        "- Execute o script no notebook.\n",
        "\n",
        "Uso\n",
        "\n",
        "- Execute o script Thrive_Project.py.\n",
        "- Selecione a opção desejada no menu.\n",
        "- Siga as instruções para fornecer as informações necessárias.\n",
        "- Leia os resultados e recomendações geradas pelo sistema.\n",
        "\n",
        "Contribuições\n",
        "\n",
        "--> Contribuições são bem-vindas!\n",
        "\n",
        "- Para contribuir:\n",
        "Fork o repositório.\n",
        "- Crie um branch para sua feature ou correção.\n",
        "- Faça as alterações necessárias.\n",
        "- Envie um pull request.\n",
        "- Diretrizes para Contribuição:\n",
        "- Siga as boas práticas de programação em Python.\n",
        "- Escreva código limpo e bem comentado.\n",
        "- Adicione testes unitários para novas funcionalidades.\n",
        "- Documente suas alterações na documentação adicional."
      ],
      "metadata": {
        "id": "2N9zO0t7AYtY"
      }
    }
  ]
}